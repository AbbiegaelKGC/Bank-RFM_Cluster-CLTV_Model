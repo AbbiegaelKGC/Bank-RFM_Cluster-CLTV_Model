{
 "cells": [
  {
   "cell_type": "code",
   "execution_count": 1,
   "id": "7d917ace",
   "metadata": {},
   "outputs": [],
   "source": [
    "import pandas as pd\n",
    "from datetime import datetime\n",
    "from datetime import date\n",
    "from datetime import time\n"
   ]
  },
  {
   "cell_type": "code",
   "execution_count": 2,
   "id": "b6acf1a5",
   "metadata": {},
   "outputs": [],
   "source": [
    "\n",
    "df = pd.read_csv('bank_transactions.csv')"
   ]
  },
  {
   "cell_type": "markdown",
   "id": "35ffb624",
   "metadata": {},
   "source": [
    "# Check Missing Values and Outlier Data"
   ]
  },
  {
   "cell_type": "code",
   "execution_count": 3,
   "id": "d37b9734",
   "metadata": {},
   "outputs": [
    {
     "name": "stdout",
     "output_type": "stream",
     "text": [
      "<class 'pandas.core.frame.DataFrame'>\n",
      "RangeIndex: 1048567 entries, 0 to 1048566\n",
      "Data columns (total 9 columns):\n",
      " #   Column                   Non-Null Count    Dtype  \n",
      "---  ------                   --------------    -----  \n",
      " 0   TransactionID            1048567 non-null  object \n",
      " 1   CustomerID               1048567 non-null  object \n",
      " 2   CustomerDOB              1045170 non-null  object \n",
      " 3   CustGender               1047467 non-null  object \n",
      " 4   CustLocation             1048416 non-null  object \n",
      " 5   CustAccountBalance       1046198 non-null  float64\n",
      " 6   TransactionDate          1048567 non-null  object \n",
      " 7   TransactionTime          1048567 non-null  int64  \n",
      " 8   TransactionAmount (INR)  1048567 non-null  float64\n",
      "dtypes: float64(2), int64(1), object(6)\n",
      "memory usage: 72.0+ MB\n"
     ]
    }
   ],
   "source": [
    "df.info()"
   ]
  },
  {
   "cell_type": "code",
   "execution_count": 4,
   "id": "155ca9b0",
   "metadata": {},
   "outputs": [
    {
     "data": {
      "text/plain": [
       "Index(['TransactionID', 'CustomerID', 'CustomerDOB', 'CustGender',\n",
       "       'CustLocation', 'CustAccountBalance', 'TransactionDate',\n",
       "       'TransactionTime', 'TransactionAmount (INR)'],\n",
       "      dtype='object')"
      ]
     },
     "execution_count": 4,
     "metadata": {},
     "output_type": "execute_result"
    }
   ],
   "source": [
    "df.columns"
   ]
  },
  {
   "cell_type": "code",
   "execution_count": 5,
   "id": "cf06fb47",
   "metadata": {},
   "outputs": [],
   "source": [
    "df.dropna(inplace=True)"
   ]
  },
  {
   "cell_type": "code",
   "execution_count": 6,
   "id": "32d8cb1e",
   "metadata": {},
   "outputs": [
    {
     "name": "stdout",
     "output_type": "stream",
     "text": [
      "<class 'pandas.core.frame.DataFrame'>\n",
      "Int64Index: 1041614 entries, 0 to 1048566\n",
      "Data columns (total 9 columns):\n",
      " #   Column                   Non-Null Count    Dtype  \n",
      "---  ------                   --------------    -----  \n",
      " 0   TransactionID            1041614 non-null  object \n",
      " 1   CustomerID               1041614 non-null  object \n",
      " 2   CustomerDOB              1041614 non-null  object \n",
      " 3   CustGender               1041614 non-null  object \n",
      " 4   CustLocation             1041614 non-null  object \n",
      " 5   CustAccountBalance       1041614 non-null  float64\n",
      " 6   TransactionDate          1041614 non-null  object \n",
      " 7   TransactionTime          1041614 non-null  int64  \n",
      " 8   TransactionAmount (INR)  1041614 non-null  float64\n",
      "dtypes: float64(2), int64(1), object(6)\n",
      "memory usage: 79.5+ MB\n"
     ]
    }
   ],
   "source": [
    "df.info()"
   ]
  },
  {
   "cell_type": "code",
   "execution_count": 7,
   "id": "a966e7f4",
   "metadata": {},
   "outputs": [],
   "source": [
    "# Checking Customer Date of Birth validity\n",
    "df['CustomerDOB'] = pd.to_datetime(df['CustomerDOB'])"
   ]
  },
  {
   "cell_type": "code",
   "execution_count": 8,
   "id": "045f57e8",
   "metadata": {},
   "outputs": [
    {
     "data": {
      "text/plain": [
       "1800-01-01    56292\n",
       "1989-01-01      809\n",
       "1990-01-01      784\n",
       "1991-06-08      698\n",
       "1991-01-01      665\n",
       "              ...  \n",
       "2051-02-12        1\n",
       "2052-03-20        1\n",
       "2047-09-26        1\n",
       "2041-04-10        1\n",
       "2044-10-24        1\n",
       "Name: CustomerDOB, Length: 17233, dtype: int64"
      ]
     },
     "execution_count": 8,
     "metadata": {},
     "output_type": "execute_result"
    }
   ],
   "source": [
    "df['CustomerDOB'].value_counts()"
   ]
  },
  {
   "cell_type": "code",
   "execution_count": 9,
   "id": "bc09b21b",
   "metadata": {},
   "outputs": [],
   "source": [
    "df = df[df['CustomerDOB'] != '1800-01-01']"
   ]
  },
  {
   "cell_type": "code",
   "execution_count": 10,
   "id": "d8dda8ff",
   "metadata": {},
   "outputs": [
    {
     "name": "stdout",
     "output_type": "stream",
     "text": [
      "<class 'pandas.core.frame.DataFrame'>\n",
      "Int64Index: 985322 entries, 0 to 1048566\n",
      "Data columns (total 9 columns):\n",
      " #   Column                   Non-Null Count   Dtype         \n",
      "---  ------                   --------------   -----         \n",
      " 0   TransactionID            985322 non-null  object        \n",
      " 1   CustomerID               985322 non-null  object        \n",
      " 2   CustomerDOB              985322 non-null  datetime64[ns]\n",
      " 3   CustGender               985322 non-null  object        \n",
      " 4   CustLocation             985322 non-null  object        \n",
      " 5   CustAccountBalance       985322 non-null  float64       \n",
      " 6   TransactionDate          985322 non-null  object        \n",
      " 7   TransactionTime          985322 non-null  int64         \n",
      " 8   TransactionAmount (INR)  985322 non-null  float64       \n",
      "dtypes: datetime64[ns](1), float64(2), int64(1), object(5)\n",
      "memory usage: 75.2+ MB\n"
     ]
    }
   ],
   "source": [
    "df.info()"
   ]
  },
  {
   "cell_type": "code",
   "execution_count": 11,
   "id": "773f3325",
   "metadata": {},
   "outputs": [],
   "source": [
    "today_date = datetime.now().date()\n",
    "df = df[df['CustomerDOB'].dt.date <= today_date]"
   ]
  },
  {
   "cell_type": "code",
   "execution_count": 12,
   "id": "bec001ee",
   "metadata": {},
   "outputs": [],
   "source": [
    "today_year = datetime.now().year\n",
    "df['Age'] = df['CustomerDOB'].apply(lambda x : today_year - x.year)"
   ]
  },
  {
   "cell_type": "code",
   "execution_count": 13,
   "id": "a52a5876",
   "metadata": {},
   "outputs": [
    {
     "data": {
      "text/plain": [
       "M    651975\n",
       "F    249408\n",
       "Name: CustGender, dtype: int64"
      ]
     },
     "execution_count": 13,
     "metadata": {},
     "output_type": "execute_result"
    }
   ],
   "source": [
    "# Check Gender Values\n",
    "df['CustGender'].value_counts()"
   ]
  },
  {
   "cell_type": "code",
   "execution_count": 14,
   "id": "5b9de665",
   "metadata": {},
   "outputs": [
    {
     "data": {
      "text/plain": [
       "MUMBAI                89157\n",
       "BANGALORE             72259\n",
       "NEW DELHI             67813\n",
       "GURGAON               64564\n",
       "DELHI                 61771\n",
       "                      ...  \n",
       "(E) THANE SECTOR 3        1\n",
       "MANIMANGALAM              1\n",
       "CHINCHINIM                1\n",
       "PEN DIST RAIGAD           1\n",
       "IMPERIA THANE WEST        1\n",
       "Name: CustLocation, Length: 7643, dtype: int64"
      ]
     },
     "execution_count": 14,
     "metadata": {},
     "output_type": "execute_result"
    }
   ],
   "source": [
    "# Check Location\n",
    "df['CustLocation'].value_counts()"
   ]
  },
  {
   "cell_type": "code",
   "execution_count": 15,
   "id": "16c76e24",
   "metadata": {},
   "outputs": [
    {
     "data": {
      "text/plain": [
       "count    9.013830e+05\n",
       "mean     8.175853e+04\n",
       "std      3.981284e+05\n",
       "min      0.000000e+00\n",
       "25%      4.268410e+03\n",
       "50%      1.479842e+04\n",
       "75%      4.751663e+04\n",
       "max      4.316556e+07\n",
       "Name: CustAccountBalance, dtype: float64"
      ]
     },
     "execution_count": 15,
     "metadata": {},
     "output_type": "execute_result"
    }
   ],
   "source": [
    "# Check Account Balance\n",
    "df['CustAccountBalance'].describe()"
   ]
  },
  {
   "cell_type": "code",
   "execution_count": 16,
   "id": "430478d2",
   "metadata": {},
   "outputs": [],
   "source": [
    "# Checking Transaction Date\n",
    "df['TransactionDate'] = pd.to_datetime(df['TransactionDate'])"
   ]
  },
  {
   "cell_type": "code",
   "execution_count": 17,
   "id": "c37ab6f9",
   "metadata": {},
   "outputs": [
    {
     "data": {
      "text/plain": [
       "2016-07-08    23952\n",
       "2016-08-13    23317\n",
       "2016-06-08    23291\n",
       "2016-04-09    23224\n",
       "2016-03-09    23109\n",
       "2016-10-09    22475\n",
       "2016-11-09    22223\n",
       "2016-08-14    21937\n",
       "2016-08-15    20904\n",
       "2016-02-09    19949\n",
       "2016-08-21    19729\n",
       "2016-01-09    19439\n",
       "2016-12-08    19378\n",
       "2016-09-08    18828\n",
       "2016-08-09    18778\n",
       "2016-10-08    18742\n",
       "2016-11-08    18732\n",
       "2016-09-09    18662\n",
       "2016-05-09    18426\n",
       "2016-07-09    18361\n",
       "2016-05-08    18306\n",
       "2016-08-27    18227\n",
       "2016-08-20    18145\n",
       "2016-08-08    18029\n",
       "2016-02-08    18023\n",
       "2016-08-17    18004\n",
       "2016-08-28    17998\n",
       "2016-04-08    17855\n",
       "2016-12-09    17775\n",
       "2016-09-13    17731\n",
       "2016-03-08    17665\n",
       "2016-01-08    17648\n",
       "2016-08-16    17370\n",
       "2016-06-09    17005\n",
       "2016-09-15    16966\n",
       "2016-09-14    16963\n",
       "2016-08-31    16739\n",
       "2016-08-18    16650\n",
       "2016-08-19    15904\n",
       "2016-08-22    15819\n",
       "2016-08-25    15683\n",
       "2016-08-24    15121\n",
       "2016-08-26    14991\n",
       "2016-08-23    14566\n",
       "2016-08-30    14548\n",
       "2016-08-29    14095\n",
       "2016-09-18    12613\n",
       "2016-09-26    10562\n",
       "2016-09-25     7114\n",
       "2016-09-27     6314\n",
       "2016-09-22     5722\n",
       "2016-10-21     3133\n",
       "2016-09-23     2987\n",
       "2016-09-30     1654\n",
       "2016-10-16        2\n",
       "Name: TransactionDate, dtype: int64"
      ]
     },
     "execution_count": 17,
     "metadata": {},
     "output_type": "execute_result"
    }
   ],
   "source": [
    "df['TransactionDate'].value_counts()"
   ]
  },
  {
   "cell_type": "code",
   "execution_count": 18,
   "id": "ebd36c18",
   "metadata": {},
   "outputs": [
    {
     "data": {
      "text/plain": [
       "datetime.date(2016, 1, 8)"
      ]
     },
     "execution_count": 18,
     "metadata": {},
     "output_type": "execute_result"
    }
   ],
   "source": [
    "df['TransactionDate'].min().date()"
   ]
  },
  {
   "cell_type": "code",
   "execution_count": 19,
   "id": "2bf42f02",
   "metadata": {},
   "outputs": [
    {
     "data": {
      "text/plain": [
       "datetime.date(2016, 12, 9)"
      ]
     },
     "execution_count": 19,
     "metadata": {},
     "output_type": "execute_result"
    }
   ],
   "source": [
    "df['TransactionDate'].max().date()"
   ]
  },
  {
   "cell_type": "code",
   "execution_count": 20,
   "id": "bf7a6c18",
   "metadata": {},
   "outputs": [
    {
     "data": {
      "text/html": [
       "<div>\n",
       "<style scoped>\n",
       "    .dataframe tbody tr th:only-of-type {\n",
       "        vertical-align: middle;\n",
       "    }\n",
       "\n",
       "    .dataframe tbody tr th {\n",
       "        vertical-align: top;\n",
       "    }\n",
       "\n",
       "    .dataframe thead th {\n",
       "        text-align: right;\n",
       "    }\n",
       "</style>\n",
       "<table border=\"1\" class=\"dataframe\">\n",
       "  <thead>\n",
       "    <tr style=\"text-align: right;\">\n",
       "      <th></th>\n",
       "      <th>TransactionID</th>\n",
       "      <th>CustomerID</th>\n",
       "      <th>CustomerDOB</th>\n",
       "      <th>CustGender</th>\n",
       "      <th>CustLocation</th>\n",
       "      <th>CustAccountBalance</th>\n",
       "      <th>TransactionDate</th>\n",
       "      <th>TransactionTime</th>\n",
       "      <th>TransactionAmount (INR)</th>\n",
       "      <th>Age</th>\n",
       "    </tr>\n",
       "  </thead>\n",
       "  <tbody>\n",
       "    <tr>\n",
       "      <th>0</th>\n",
       "      <td>T1</td>\n",
       "      <td>C5841053</td>\n",
       "      <td>1994-10-01</td>\n",
       "      <td>F</td>\n",
       "      <td>JAMSHEDPUR</td>\n",
       "      <td>17819.05</td>\n",
       "      <td>2016-02-08</td>\n",
       "      <td>143207</td>\n",
       "      <td>25.0</td>\n",
       "      <td>29</td>\n",
       "    </tr>\n",
       "    <tr>\n",
       "      <th>2</th>\n",
       "      <td>T3</td>\n",
       "      <td>C4417068</td>\n",
       "      <td>1996-11-26</td>\n",
       "      <td>F</td>\n",
       "      <td>MUMBAI</td>\n",
       "      <td>17874.44</td>\n",
       "      <td>2016-02-08</td>\n",
       "      <td>142712</td>\n",
       "      <td>459.0</td>\n",
       "      <td>27</td>\n",
       "    </tr>\n",
       "    <tr>\n",
       "      <th>3</th>\n",
       "      <td>T4</td>\n",
       "      <td>C5342380</td>\n",
       "      <td>1973-09-14</td>\n",
       "      <td>F</td>\n",
       "      <td>MUMBAI</td>\n",
       "      <td>866503.21</td>\n",
       "      <td>2016-02-08</td>\n",
       "      <td>142714</td>\n",
       "      <td>2060.0</td>\n",
       "      <td>50</td>\n",
       "    </tr>\n",
       "    <tr>\n",
       "      <th>4</th>\n",
       "      <td>T5</td>\n",
       "      <td>C9031234</td>\n",
       "      <td>1988-03-24</td>\n",
       "      <td>F</td>\n",
       "      <td>NAVI MUMBAI</td>\n",
       "      <td>6714.43</td>\n",
       "      <td>2016-02-08</td>\n",
       "      <td>181156</td>\n",
       "      <td>1762.5</td>\n",
       "      <td>35</td>\n",
       "    </tr>\n",
       "    <tr>\n",
       "      <th>6</th>\n",
       "      <td>T7</td>\n",
       "      <td>C7126560</td>\n",
       "      <td>1992-01-26</td>\n",
       "      <td>F</td>\n",
       "      <td>MUMBAI</td>\n",
       "      <td>973.46</td>\n",
       "      <td>2016-02-08</td>\n",
       "      <td>173806</td>\n",
       "      <td>566.0</td>\n",
       "      <td>31</td>\n",
       "    </tr>\n",
       "  </tbody>\n",
       "</table>\n",
       "</div>"
      ],
      "text/plain": [
       "  TransactionID CustomerID CustomerDOB CustGender CustLocation  \\\n",
       "0            T1   C5841053  1994-10-01          F   JAMSHEDPUR   \n",
       "2            T3   C4417068  1996-11-26          F       MUMBAI   \n",
       "3            T4   C5342380  1973-09-14          F       MUMBAI   \n",
       "4            T5   C9031234  1988-03-24          F  NAVI MUMBAI   \n",
       "6            T7   C7126560  1992-01-26          F       MUMBAI   \n",
       "\n",
       "   CustAccountBalance TransactionDate  TransactionTime  \\\n",
       "0            17819.05      2016-02-08           143207   \n",
       "2            17874.44      2016-02-08           142712   \n",
       "3           866503.21      2016-02-08           142714   \n",
       "4             6714.43      2016-02-08           181156   \n",
       "6              973.46      2016-02-08           173806   \n",
       "\n",
       "   TransactionAmount (INR)  Age  \n",
       "0                     25.0   29  \n",
       "2                    459.0   27  \n",
       "3                   2060.0   50  \n",
       "4                   1762.5   35  \n",
       "6                    566.0   31  "
      ]
     },
     "execution_count": 20,
     "metadata": {},
     "output_type": "execute_result"
    }
   ],
   "source": [
    "df.head()"
   ]
  },
  {
   "cell_type": "code",
   "execution_count": 21,
   "id": "a19e8bfd",
   "metadata": {},
   "outputs": [],
   "source": [
    "# Checking Transaction Time\n",
    "df['TransactionTime'] = df['TransactionTime'].apply(lambda x: pd.to_datetime(str(x).zfill(6), format='%H%M%S').time())"
   ]
  },
  {
   "cell_type": "code",
   "execution_count": 23,
   "id": "36aacb09",
   "metadata": {},
   "outputs": [
    {
     "data": {
      "text/html": [
       "<div>\n",
       "<style scoped>\n",
       "    .dataframe tbody tr th:only-of-type {\n",
       "        vertical-align: middle;\n",
       "    }\n",
       "\n",
       "    .dataframe tbody tr th {\n",
       "        vertical-align: top;\n",
       "    }\n",
       "\n",
       "    .dataframe thead th {\n",
       "        text-align: right;\n",
       "    }\n",
       "</style>\n",
       "<table border=\"1\" class=\"dataframe\">\n",
       "  <thead>\n",
       "    <tr style=\"text-align: right;\">\n",
       "      <th></th>\n",
       "      <th>TransactionID</th>\n",
       "      <th>CustomerID</th>\n",
       "      <th>CustomerDOB</th>\n",
       "      <th>CustGender</th>\n",
       "      <th>CustLocation</th>\n",
       "      <th>CustAccountBalance</th>\n",
       "      <th>TransactionDate</th>\n",
       "      <th>TransactionTime</th>\n",
       "      <th>TransactionAmount (INR)</th>\n",
       "      <th>Age</th>\n",
       "    </tr>\n",
       "  </thead>\n",
       "  <tbody>\n",
       "    <tr>\n",
       "      <th>0</th>\n",
       "      <td>T1</td>\n",
       "      <td>C5841053</td>\n",
       "      <td>1994-10-01</td>\n",
       "      <td>F</td>\n",
       "      <td>JAMSHEDPUR</td>\n",
       "      <td>17819.05</td>\n",
       "      <td>2016-02-08</td>\n",
       "      <td>14:32:07</td>\n",
       "      <td>25.0</td>\n",
       "      <td>29</td>\n",
       "    </tr>\n",
       "    <tr>\n",
       "      <th>2</th>\n",
       "      <td>T3</td>\n",
       "      <td>C4417068</td>\n",
       "      <td>1996-11-26</td>\n",
       "      <td>F</td>\n",
       "      <td>MUMBAI</td>\n",
       "      <td>17874.44</td>\n",
       "      <td>2016-02-08</td>\n",
       "      <td>14:27:12</td>\n",
       "      <td>459.0</td>\n",
       "      <td>27</td>\n",
       "    </tr>\n",
       "    <tr>\n",
       "      <th>3</th>\n",
       "      <td>T4</td>\n",
       "      <td>C5342380</td>\n",
       "      <td>1973-09-14</td>\n",
       "      <td>F</td>\n",
       "      <td>MUMBAI</td>\n",
       "      <td>866503.21</td>\n",
       "      <td>2016-02-08</td>\n",
       "      <td>14:27:14</td>\n",
       "      <td>2060.0</td>\n",
       "      <td>50</td>\n",
       "    </tr>\n",
       "    <tr>\n",
       "      <th>4</th>\n",
       "      <td>T5</td>\n",
       "      <td>C9031234</td>\n",
       "      <td>1988-03-24</td>\n",
       "      <td>F</td>\n",
       "      <td>NAVI MUMBAI</td>\n",
       "      <td>6714.43</td>\n",
       "      <td>2016-02-08</td>\n",
       "      <td>18:11:56</td>\n",
       "      <td>1762.5</td>\n",
       "      <td>35</td>\n",
       "    </tr>\n",
       "    <tr>\n",
       "      <th>6</th>\n",
       "      <td>T7</td>\n",
       "      <td>C7126560</td>\n",
       "      <td>1992-01-26</td>\n",
       "      <td>F</td>\n",
       "      <td>MUMBAI</td>\n",
       "      <td>973.46</td>\n",
       "      <td>2016-02-08</td>\n",
       "      <td>17:38:06</td>\n",
       "      <td>566.0</td>\n",
       "      <td>31</td>\n",
       "    </tr>\n",
       "  </tbody>\n",
       "</table>\n",
       "</div>"
      ],
      "text/plain": [
       "  TransactionID CustomerID CustomerDOB CustGender CustLocation  \\\n",
       "0            T1   C5841053  1994-10-01          F   JAMSHEDPUR   \n",
       "2            T3   C4417068  1996-11-26          F       MUMBAI   \n",
       "3            T4   C5342380  1973-09-14          F       MUMBAI   \n",
       "4            T5   C9031234  1988-03-24          F  NAVI MUMBAI   \n",
       "6            T7   C7126560  1992-01-26          F       MUMBAI   \n",
       "\n",
       "   CustAccountBalance TransactionDate TransactionTime  \\\n",
       "0            17819.05      2016-02-08        14:32:07   \n",
       "2            17874.44      2016-02-08        14:27:12   \n",
       "3           866503.21      2016-02-08        14:27:14   \n",
       "4             6714.43      2016-02-08        18:11:56   \n",
       "6              973.46      2016-02-08        17:38:06   \n",
       "\n",
       "   TransactionAmount (INR)  Age  \n",
       "0                     25.0   29  \n",
       "2                    459.0   27  \n",
       "3                   2060.0   50  \n",
       "4                   1762.5   35  \n",
       "6                    566.0   31  "
      ]
     },
     "execution_count": 23,
     "metadata": {},
     "output_type": "execute_result"
    }
   ],
   "source": [
    "df.head()"
   ]
  },
  {
   "cell_type": "code",
   "execution_count": 25,
   "id": "721da77b",
   "metadata": {},
   "outputs": [
    {
     "data": {
      "text/plain": [
       "count    9.013830e+05\n",
       "mean     1.298580e+03\n",
       "std      5.475872e+03\n",
       "min      0.000000e+00\n",
       "25%      1.480000e+02\n",
       "50%      4.000000e+02\n",
       "75%      1.020000e+03\n",
       "max      1.560035e+06\n",
       "Name: TransactionAmount (INR), dtype: float64"
      ]
     },
     "execution_count": 25,
     "metadata": {},
     "output_type": "execute_result"
    }
   ],
   "source": [
    "# Check Transaction Amount\n",
    "df['TransactionAmount (INR)'].describe()"
   ]
  },
  {
   "cell_type": "code",
   "execution_count": 26,
   "id": "61adac74",
   "metadata": {},
   "outputs": [],
   "source": [
    "df.to_csv('cleaned_df.csv', index=False)"
   ]
  },
  {
   "cell_type": "code",
   "execution_count": null,
   "id": "a0812175",
   "metadata": {},
   "outputs": [],
   "source": []
  }
 ],
 "metadata": {
  "kernelspec": {
   "display_name": "Python 3 (ipykernel)",
   "language": "python",
   "name": "python3"
  },
  "language_info": {
   "codemirror_mode": {
    "name": "ipython",
    "version": 3
   },
   "file_extension": ".py",
   "mimetype": "text/x-python",
   "name": "python",
   "nbconvert_exporter": "python",
   "pygments_lexer": "ipython3",
   "version": "3.10.9"
  }
 },
 "nbformat": 4,
 "nbformat_minor": 5
}
